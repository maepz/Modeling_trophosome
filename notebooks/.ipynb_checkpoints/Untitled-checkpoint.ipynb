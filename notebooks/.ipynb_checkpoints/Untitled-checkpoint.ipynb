{
 "cells": [
  {
   "cell_type": "code",
   "execution_count": 13,
   "id": "39582b0f-6a68-46fe-944f-ad6d27833a3e",
   "metadata": {},
   "outputs": [
    {
     "name": "stdout",
     "output_type": "stream",
     "text": [
      "162 35\n"
     ]
    }
   ],
   "source": [
    "from itertools import product\n",
    "\n",
    "matrix = [[2,3,4],[3,4,5],[0,1,2],[0,1,2],[0,1]]\n",
    "target = 9\n",
    "count = 0\n",
    "\n",
    "i=0\n",
    "for combination in product(*matrix):\n",
    "    # print(combination)\n",
    "    i+=1\n",
    "    if sum(combination) == target:\n",
    "        count += 1\n",
    "\n",
    "print(i,count)"
   ]
  },
  {
   "cell_type": "code",
   "execution_count": 16,
   "id": "8563766f-4683-4c15-9860-0281908aaaeb",
   "metadata": {},
   "outputs": [
    {
     "data": {
      "text/plain": [
       "162"
      ]
     },
     "execution_count": 16,
     "metadata": {},
     "output_type": "execute_result"
    }
   ],
   "source": [
    "import numpy as np \n",
    "(3*3*3*3)*2"
   ]
  },
  {
   "cell_type": "code",
   "execution_count": 13,
   "id": "a9661359-662d-4bc3-a604-46c05930aa5d",
   "metadata": {},
   "outputs": [
    {
     "data": {
      "text/plain": [
       "40.25"
      ]
     },
     "execution_count": 13,
     "metadata": {},
     "output_type": "execute_result"
    }
   ],
   "source": [
    "161/4"
   ]
  },
  {
   "cell_type": "code",
   "execution_count": 5,
   "id": "44b51114-3f28-4589-a55d-2ca4f8541a67",
   "metadata": {},
   "outputs": [
    {
     "name": "stdout",
     "output_type": "stream",
     "text": [
      "[[-1, 0, 1], [-1, 0, 1], [-1, 0, 1], [0, 1]]\n",
      "54 13\n",
      "script took 0.0004425048828125 seconds\n"
     ]
    }
   ],
   "source": [
    "from itertools import product\n",
    "import time\n",
    "\n",
    "start=time.time()\n",
    "n=3\n",
    "matrix = n*[[-1,0,1]]+[[0,1]]\n",
    "# matrix = n*[[-1,0,1]]\n",
    "\n",
    "print(matrix)\n",
    "target = 0\n",
    "j = 0\n",
    "\n",
    "i=0\n",
    "for combination in product(*matrix):\n",
    "    # print(combination)\n",
    "    i+=1\n",
    "    if sum(combination) == target:\n",
    "        j += 1\n",
    "\n",
    "\n",
    "print(i,j)\n",
    "combination_counts=2*pow(3, n)\n",
    "# combination_counts = i = 2*pow(3, n)\n",
    "# combinationnull_counts= j = \"?\"\n",
    "\n",
    "print('script took', time.time()-start, 'seconds')"
   ]
  },
  {
   "cell_type": "code",
   "execution_count": 45,
   "id": "016ca8f1-62cf-496e-a52f-7813770bb755",
   "metadata": {},
   "outputs": [
    {
     "ename": "KeyboardInterrupt",
     "evalue": "",
     "output_type": "error",
     "traceback": [
      "\u001b[0;31m---------------------------------------------------------------------------\u001b[0m",
      "\u001b[0;31mKeyboardInterrupt\u001b[0m                         Traceback (most recent call last)",
      "\u001b[0;32m/tmp/ipykernel_168130/3265127786.py\u001b[0m in \u001b[0;36m<module>\u001b[0;34m\u001b[0m\n\u001b[1;32m     11\u001b[0m     \u001b[0mmatrix\u001b[0m \u001b[0;34m=\u001b[0m \u001b[0mn\u001b[0m\u001b[0;34m*\u001b[0m\u001b[0;34m[\u001b[0m\u001b[0;34m[\u001b[0m\u001b[0;34m-\u001b[0m\u001b[0;36m1\u001b[0m\u001b[0;34m,\u001b[0m\u001b[0;36m0\u001b[0m\u001b[0;34m,\u001b[0m\u001b[0;36m1\u001b[0m\u001b[0;34m]\u001b[0m\u001b[0;34m]\u001b[0m\u001b[0;34m+\u001b[0m\u001b[0;34m[\u001b[0m\u001b[0;34m[\u001b[0m\u001b[0;36m0\u001b[0m\u001b[0;34m,\u001b[0m\u001b[0;36m1\u001b[0m\u001b[0;34m]\u001b[0m\u001b[0;34m]\u001b[0m\u001b[0;34m\u001b[0m\u001b[0;34m\u001b[0m\u001b[0m\n\u001b[1;32m     12\u001b[0m     \u001b[0;32mfor\u001b[0m \u001b[0mcombination\u001b[0m \u001b[0;32min\u001b[0m \u001b[0mproduct\u001b[0m\u001b[0;34m(\u001b[0m\u001b[0;34m*\u001b[0m\u001b[0mmatrix\u001b[0m\u001b[0;34m)\u001b[0m\u001b[0;34m:\u001b[0m\u001b[0;34m\u001b[0m\u001b[0;34m\u001b[0m\u001b[0m\n\u001b[0;32m---> 13\u001b[0;31m         \u001b[0;32mif\u001b[0m \u001b[0msum\u001b[0m\u001b[0;34m(\u001b[0m\u001b[0mcombination\u001b[0m\u001b[0;34m)\u001b[0m \u001b[0;34m==\u001b[0m \u001b[0mtarget\u001b[0m\u001b[0;34m:\u001b[0m\u001b[0;34m\u001b[0m\u001b[0;34m\u001b[0m\u001b[0m\n\u001b[0m\u001b[1;32m     14\u001b[0m             \u001b[0mtmp2\u001b[0m \u001b[0;34m+=\u001b[0m \u001b[0;36m1\u001b[0m\u001b[0;34m\u001b[0m\u001b[0;34m\u001b[0m\u001b[0m\n\u001b[1;32m     15\u001b[0m     \u001b[0mj\u001b[0m\u001b[0;34m+=\u001b[0m\u001b[0;34m[\u001b[0m\u001b[0mtmp2\u001b[0m\u001b[0;34m]\u001b[0m\u001b[0;34m\u001b[0m\u001b[0;34m\u001b[0m\u001b[0m\n",
      "\u001b[0;31mKeyboardInterrupt\u001b[0m: "
     ]
    }
   ],
   "source": [
    "from itertools import product\n",
    "\n",
    "i=[]\n",
    "j=[]\n",
    "N=20\n",
    "for n in range(N):\n",
    "    tmp1=pow(3, n)\n",
    "    i+=[tmp1]\n",
    "    tmp2=0\n",
    "    target=0\n",
    "    matrix = n*[[-1,0,1]]+[[0,1]]\n",
    "    for combination in product(*matrix):\n",
    "        if sum(combination) == target:\n",
    "            tmp2 += 1\n",
    "    j+=[tmp2]\n",
    "        \n",
    "# print(list(range(15)),[i],[j])\n",
    "\n"
   ]
  },
  {
   "cell_type": "code",
   "execution_count": 13,
   "id": "17ac017c-22a5-4173-b5cd-430bf8c91bd8",
   "metadata": {},
   "outputs": [
    {
     "name": "stderr",
     "output_type": "stream",
     "text": [
      "UsageError: Line magic function `%memit` not found.\n"
     ]
    }
   ],
   "source": [
    "from itertools import product\n",
    "import time\n",
    "\n",
    "def get_paths_that_sum_to_0(N=int,i=0,last_sum=0,vals=[],good_paths=[]):\n",
    "    def recursively_find_the_good_paths(N=int,i=0,last_sum=0,vals=[]):\n",
    "        nonlocal path_counter\n",
    "        if i == N:\n",
    "            path_counter+=1\n",
    "        i+=1\n",
    "        for val in [-1,0,1]:\n",
    "            new_sum=last_sum+val\n",
    "\n",
    "            if (new_sum<(i-(N+1))) | (new_sum>=((N+1)-i)):\n",
    "                continue\n",
    "            else:\n",
    "                recursively_find_the_good_paths(N=N,i=i,last_sum=new_sum,vals=vals+[val])\n",
    "\n",
    "        # return()\n",
    "    path_counter=0\n",
    "    recursively_find_the_good_paths(N=N)  \n",
    "    return(path_counter)\n",
    "\n",
    "N=15\n",
    "######################\n",
    "\n",
    "start_1=time.time()\n",
    "\n",
    "matrix = N*[[-1,0,1]]+[[0,1]]\n",
    "# matrix = n*[[-1,0,1]]\n",
    "\n",
    "# print(matrix)\n",
    "target = 0\n",
    "j = 0\n",
    "\n",
    "i=0\n",
    "for combination in product(*matrix):\n",
    "    # print(combination)\n",
    "    i+=1\n",
    "    if sum(combination) == target:\n",
    "        j += 1\n",
    "\n",
    "\n",
    "print(i,j)\n",
    "combination_counts=2*pow(3, N)\n",
    "# combination_counts = i = 2*pow(3, n)\n",
    "# combinationnull_counts= j = \"?\"\n",
    "\n",
    "print('script 1 took', time.time()-start_1, 'seconds')\n",
    "\n",
    "#####################\n",
    "start_2=time.time()\n",
    "\n",
    "\n",
    "res=get_paths_that_sum_to_0(N=N)    \n",
    "\n",
    "print(2*pow(3, N),res)\n",
    "# print(len(res))\n",
    "# print('\\n'.join(map(str,res)))\n",
    "print('script 2 took', time.time()-start_2, 'seconds')\n",
    "        "
   ]
  },
  {
   "cell_type": "code",
   "execution_count": 4,
   "id": "d88289e9-0acd-4d1b-acf0-8ee7ec6d4030",
   "metadata": {},
   "outputs": [
    {
     "name": "stdout",
     "output_type": "stream",
     "text": [
      "0\n",
      "1\n",
      "2\n",
      "3\n",
      "4\n",
      "5\n",
      "6\n",
      "7\n",
      "8\n",
      "9\n",
      "10\n",
      "11\n",
      "12\n",
      "13\n",
      "14\n"
     ]
    }
   ],
   "source": [
    "for k in range(N):\n",
    "    print(k)"
   ]
  },
  {
   "cell_type": "code",
   "execution_count": 19,
   "id": "c1e1992c-5659-4771-be4b-06d954a6d713",
   "metadata": {},
   "outputs": [
    {
     "name": "stdout",
     "output_type": "stream",
     "text": [
      "   K var  value  time_to_compute\n",
      "0  0   S      2         0.000006\n",
      "1  1   S      6         0.000007\n",
      "2  2   S     18         0.000012\n",
      "3  3   S     54         0.000027\n"
     ]
    },
    {
     "data": {
      "image/png": "[encoded data removed]",
      "text/plain": [
       "<Figure size 432x288 with 2 Axes>"
      ]
     },
     "metadata": {
      "needs_background": "light"
     },
     "output_type": "display_data"
    }
   ],
   "source": [
    "import pandas as pd\n",
    "from itertools import product\n",
    "import time\n",
    "import seaborn as sns\n",
    "import matplotlib.pyplot as plt\n",
    "\n",
    "\n",
    "def get_paths_that_sum_to_0(N=int,i=0,last_sum=0,vals=[],good_paths=[]):\n",
    "    def recursively_find_the_good_paths(N=int,i=0,last_sum=0,vals=[]):\n",
    "        nonlocal path_counter\n",
    "        if i == N:\n",
    "            path_counter+=1\n",
    "        i+=1\n",
    "        for val in [-1,0,1]:\n",
    "            new_sum=last_sum+val\n",
    "\n",
    "            if (new_sum<(i-(N+1))) | (new_sum>=((N+1)-i)):\n",
    "                continue\n",
    "            else:\n",
    "                recursively_find_the_good_paths(N=N,i=i,last_sum=new_sum,vals=vals+[val])\n",
    "\n",
    "        # return()\n",
    "    path_counter=0\n",
    "    recursively_find_the_good_paths(N=N)  \n",
    "    return(path_counter)\n",
    "\n",
    "\n",
    "N=17\n",
    "i=[]\n",
    "j=[]\n",
    "t=[]\n",
    "for k in range(N):\n",
    "    start_2=time.time()\n",
    "\n",
    "    i+=[2*pow(3, k)]\n",
    "    j+=[get_paths_that_sum_to_0(N=k)]   \n",
    "    t+=[time.time()-start_2]\n",
    "    # print(len(res))\n",
    "    # print('\\n'.join(map(str,res)))\n",
    "    # print('script 2 took', time.time()-start_2, 'seconds')\n",
    "    \n",
    "    \n",
    "\n",
    "df=pd.DataFrame( list(zip(list(range(N)),N*['S'],map(int,i),map(float,t)))+list(zip(list(range(N)),N*['S=N'],map(int,j),map(float,t))),columns=['K','var','value','time_to_compute'])\n",
    "print(df[:4])\n",
    "\n",
    "fig, ax1 = plt.subplots() # initializes figure and plots\n",
    "\n",
    "ax2 = ax1.twinx() # applies twinx to ax2, which is the second y axis. \n",
    "\n",
    "sns.lineplot(data=df,x = 'K', y = 'time_to_compute', marker = 'o', color = 'grey',alpha=0.5, ax = ax2) # plots the second set, and sets to ax2. \n",
    "sns.lineplot(data=df,x = 'K', y = \"value\", ax = ax1, hue = 'var') # plots the first set of data, and sets it to ax1. \n",
    "\n",
    "# these lines add the annotations for the plot. \n",
    "# ax1.set_xlabel('X data')\n",
    "# ax1.set_ylabel('Counts', color='g')\n",
    "# ax2.set_ylabel('Detection Rates', color='b')\n",
    "\n",
    "plt.show(); # shows the plot. \n",
    "# sns.lineplot(data=df,x=\"K\",y=\"value\",hue='var')"
   ]
  },
  {
   "cell_type": "code",
   "execution_count": 32,
   "id": "b9ce3b0e-c773-4d25-bd4b-e8d8d12705e1",
   "metadata": {},
   "outputs": [
    {
     "name": "stdout",
     "output_type": "stream",
     "text": [
      "3492117\n"
     ]
    }
   ],
   "source": [
    "# def get_paths_that_sum_to_0(N=int,i=0,last_sum=0,vals=[],good_paths=[]):\n",
    "#     def recursively_find_the_good_paths(N=int,i=0,last_sum=0,vals=[]):\n",
    "#         nonlocal path_counter\n",
    "#         if i == N:\n",
    "#             path_counter+=1\n",
    "#         i+=1\n",
    "#         for val in [-1,0,1]:\n",
    "#             new_sum=last_sum+val\n",
    "\n",
    "#             if (new_sum<(i-(N+1))) | (new_sum>=((N+1)-i)):\n",
    "#                 continue\n",
    "#             else:\n",
    "#                 recursively_find_the_good_paths(N=N,i=i,last_sum=new_sum,vals=vals+[val])\n",
    "\n",
    "#         # return()\n",
    "#     path_counter=0\n",
    "#     recursively_find_the_good_paths(N=N)  \n",
    "#     return(path_counter)\n",
    "\n",
    "\n",
    "# N=15\n",
    "\n",
    "# res=get_paths_that_sum_to_0(N=N)    \n",
    "\n",
    "# print(res)\n",
    "\n",
    "        "
   ]
  },
  {
   "cell_type": "code",
   "execution_count": null,
   "id": "f87de045-9202-4003-b481-f783c6b00a42",
   "metadata": {},
   "outputs": [],
   "source": []
  },
  {
   "cell_type": "code",
   "execution_count": 24,
   "id": "63b730ae-ec08-4361-a0f7-ff16ba30d783",
   "metadata": {},
   "outputs": [],
   "source": [
    "def get_counts(N=int,i=0,last_sum=0,vals=[],good_paths=[]):\n",
    "    def get_paths_that_sum_to_0(N=int,i=0,last_sum=0,vals=[],good_paths=[]):\n",
    "        nonlocal path_counter\n",
    "        if i == N:\n",
    "            good_vals=vals+[0-last_sum]\n",
    "            path_counter+=1\n",
    "            print(path_counter,good_paths)\n",
    "            good_paths+=[good_vals] \n",
    "        i+=1\n",
    "        for val in [-1,0,1]:\n",
    "            new_sum=last_sum+val\n",
    "\n",
    "            if (new_sum<(i-(N+1))) | (new_sum>=((N+1)-i)):\n",
    "                continue\n",
    "            else:\n",
    "                get_paths_that_sum_to_0(N=N,i=i,last_sum=new_sum,vals=vals+[val],good_paths=good_paths)\n",
    "\n",
    "        # return()\n",
    "        return(path_counter,good_paths)"
   ]
  },
  {
   "cell_type": "code",
   "execution_count": 136,
   "id": "632ae749-a30e-42ad-86e9-1b0a9469b16c",
   "metadata": {},
   "outputs": [
    {
     "data": {
      "text/plain": [
       "True"
      ]
     },
     "execution_count": 136,
     "metadata": {},
     "output_type": "execute_result"
    }
   ],
   "source": [
    "new_sum=-2\n",
    "i=3\n",
    "N=4\n",
    "(new_sum>=(i-N)) | (new_sum<(N-i))"
   ]
  },
  {
   "cell_type": "code",
   "execution_count": 9,
   "id": "9494e166-db57-4970-a5e9-3249a24fbf1a",
   "metadata": {},
   "outputs": [],
   "source": [
    "import seaborn as sns\n",
    "import pandas as pd"
   ]
  },
  {
   "cell_type": "code",
   "execution_count": 6,
   "id": "1c113e2f-2010-48d0-a1d7-460fbc0699d3",
   "metadata": {},
   "outputs": [
    {
     "name": "stdout",
     "output_type": "stream",
     "text": [
      "(-1, 0, 1)\n",
      "(-1, 1, 0)\n",
      "(0, -1, 1)\n",
      "(0, 0, 0)\n",
      "(1, -1, 0)\n",
      "18 5\n"
     ]
    }
   ],
   "source": [
    "from itertools import product\n",
    "\n",
    "matrix = [[-1,0,1],[-1,0,1],[0,1]]\n",
    "target = 0\n",
    "count = 0\n",
    "\n",
    "i=0\n",
    "for combination in product(*matrix):\n",
    "    # print(combination)\n",
    "    i+=1\n",
    "    if sum(combination) == target:\n",
    "        print(combination)\n",
    "        count += 1\n",
    "\n",
    "print(i,count)"
   ]
  },
  {
   "cell_type": "code",
   "execution_count": 57,
   "id": "b9597d99-c851-49f7-8db1-d87d4e9dacd3",
   "metadata": {},
   "outputs": [
    {
     "data": {
      "text/plain": [
       "3"
      ]
     },
     "execution_count": 57,
     "metadata": {},
     "output_type": "execute_result"
    }
   ],
   "source": [
    "import math\n",
    "import numpy as np\n",
    "\n",
    "n=4\n",
    "math.comb(3,int(np.floor(n/2)))\n"
   ]
  },
  {
   "cell_type": "code",
   "execution_count": 58,
   "id": "eeb25b49-fad6-4eb3-96b6-76746a9f65d1",
   "metadata": {},
   "outputs": [
    {
     "data": {
      "text/plain": [
       "126"
      ]
     },
     "execution_count": 58,
     "metadata": {},
     "output_type": "execute_result"
    }
   ],
   "source": []
  },
  {
   "cell_type": "code",
   "execution_count": 6,
   "id": "809cafd3-41ca-4e2c-b698-c91ca34cb4c8",
   "metadata": {},
   "outputs": [
    {
     "ename": "KeyboardInterrupt",
     "evalue": "",
     "output_type": "error",
     "traceback": [
      "\u001b[0;31m---------------------------------------------------------------------------\u001b[0m",
      "\u001b[0;31mKeyboardInterrupt\u001b[0m                         Traceback (most recent call last)",
      "\u001b[0;32m~/virtualenv/py38/lib/python3.8/site-packages/IPython/core/async_helpers.py\u001b[0m in \u001b[0;36m_pseudo_sync_runner\u001b[0;34m(coro)\u001b[0m\n\u001b[1;32m     66\u001b[0m     \"\"\"\n\u001b[1;32m     67\u001b[0m     \u001b[0;32mtry\u001b[0m\u001b[0;34m:\u001b[0m\u001b[0;34m\u001b[0m\u001b[0;34m\u001b[0m\u001b[0m\n\u001b[0;32m---> 68\u001b[0;31m         \u001b[0mcoro\u001b[0m\u001b[0;34m.\u001b[0m\u001b[0msend\u001b[0m\u001b[0;34m(\u001b[0m\u001b[0;32mNone\u001b[0m\u001b[0;34m)\u001b[0m\u001b[0;34m\u001b[0m\u001b[0;34m\u001b[0m\u001b[0m\n\u001b[0m\u001b[1;32m     69\u001b[0m     \u001b[0;32mexcept\u001b[0m \u001b[0mStopIteration\u001b[0m \u001b[0;32mas\u001b[0m \u001b[0mexc\u001b[0m\u001b[0;34m:\u001b[0m\u001b[0;34m\u001b[0m\u001b[0;34m\u001b[0m\u001b[0m\n\u001b[1;32m     70\u001b[0m         \u001b[0;32mreturn\u001b[0m \u001b[0mexc\u001b[0m\u001b[0;34m.\u001b[0m\u001b[0mvalue\u001b[0m\u001b[0;34m\u001b[0m\u001b[0;34m\u001b[0m\u001b[0m\n",
      "\u001b[0;32m~/virtualenv/py38/lib/python3.8/site-packages/IPython/core/interactiveshell.py\u001b[0m in \u001b[0;36mrun_cell_async\u001b[0;34m(self, raw_cell, store_history, silent, shell_futures, transformed_cell, preprocessing_exc_tuple)\u001b[0m\n\u001b[1;32m   3090\u001b[0m         \u001b[0;31m# Store raw and processed history\u001b[0m\u001b[0;34m\u001b[0m\u001b[0;34m\u001b[0m\u001b[0;34m\u001b[0m\u001b[0m\n\u001b[1;32m   3091\u001b[0m         \u001b[0;32mif\u001b[0m \u001b[0mstore_history\u001b[0m\u001b[0;34m:\u001b[0m\u001b[0;34m\u001b[0m\u001b[0;34m\u001b[0m\u001b[0m\n\u001b[0;32m-> 3092\u001b[0;31m             self.history_manager.store_inputs(self.execution_count,\n\u001b[0m\u001b[1;32m   3093\u001b[0m                                               cell, raw_cell)\n\u001b[1;32m   3094\u001b[0m         \u001b[0;32mif\u001b[0m \u001b[0;32mnot\u001b[0m \u001b[0msilent\u001b[0m\u001b[0;34m:\u001b[0m\u001b[0;34m\u001b[0m\u001b[0;34m\u001b[0m\u001b[0m\n",
      "\u001b[0;32m~/virtualenv/py38/lib/python3.8/site-packages/IPython/core/history.py\u001b[0m in \u001b[0;36mstore_inputs\u001b[0;34m(self, line_num, source, source_raw)\u001b[0m\n\u001b[1;32m    717\u001b[0m         \u001b[0mself\u001b[0m\u001b[0;34m.\u001b[0m\u001b[0minput_hist_raw\u001b[0m\u001b[0;34m.\u001b[0m\u001b[0mappend\u001b[0m\u001b[0;34m(\u001b[0m\u001b[0msource_raw\u001b[0m\u001b[0;34m)\u001b[0m\u001b[0;34m\u001b[0m\u001b[0;34m\u001b[0m\u001b[0m\n\u001b[1;32m    718\u001b[0m \u001b[0;34m\u001b[0m\u001b[0m\n\u001b[0;32m--> 719\u001b[0;31m         \u001b[0;32mwith\u001b[0m \u001b[0mself\u001b[0m\u001b[0;34m.\u001b[0m\u001b[0mdb_input_cache_lock\u001b[0m\u001b[0;34m:\u001b[0m\u001b[0;34m\u001b[0m\u001b[0;34m\u001b[0m\u001b[0m\n\u001b[0m\u001b[1;32m    720\u001b[0m             \u001b[0mself\u001b[0m\u001b[0;34m.\u001b[0m\u001b[0mdb_input_cache\u001b[0m\u001b[0;34m.\u001b[0m\u001b[0mappend\u001b[0m\u001b[0;34m(\u001b[0m\u001b[0;34m(\u001b[0m\u001b[0mline_num\u001b[0m\u001b[0;34m,\u001b[0m \u001b[0msource\u001b[0m\u001b[0;34m,\u001b[0m \u001b[0msource_raw\u001b[0m\u001b[0;34m)\u001b[0m\u001b[0;34m)\u001b[0m\u001b[0;34m\u001b[0m\u001b[0;34m\u001b[0m\u001b[0m\n\u001b[1;32m    721\u001b[0m             \u001b[0;31m# Trigger to flush cache and write to DB.\u001b[0m\u001b[0;34m\u001b[0m\u001b[0;34m\u001b[0m\u001b[0;34m\u001b[0m\u001b[0m\n",
      "\u001b[0;31mKeyboardInterrupt\u001b[0m: "
     ]
    }
   ],
   "source": [
    "from itertools import product\n",
    "# print(len([item for item in product(range(4), repeat=2)]))\n",
    "\n",
    "k=4\n",
    "print('\\n'.join(map(str,[item for item in product(range(k), repeat=2)])))\n",
    "\n"
   ]
  },
  {
   "cell_type": "code",
   "execution_count": 5,
   "id": "7acf364e-6ca8-4f1a-9098-5955a65d5063",
   "metadata": {},
   "outputs": [
    {
     "name": "stdout",
     "output_type": "stream",
     "text": [
      "21\n",
      "20\n"
     ]
    }
   ],
   "source": [
    "k=4\n",
    "print(pow(k+1, 2)-k)\n",
    "\n",
    "print(pow(k, 2)+k)\n"
   ]
  },
  {
   "cell_type": "code",
   "execution_count": null,
   "id": "d9cee0b6-e773-4afd-a2ad-45e650d98985",
   "metadata": {},
   "outputs": [],
   "source": []
  }
 ],
 "metadata": {
  "kernelspec": {
   "display_name": "py38",
   "language": "python",
   "name": "py38"
  },
  "language_info": {
   "codemirror_mode": {
    "name": "ipython",
    "version": 3
   },
   "file_extension": ".py",
   "mimetype": "text/x-python",
   "name": "python",
   "nbconvert_exporter": "python",
   "pygments_lexer": "ipython3",
   "version": "3.8.10"
  }
 },
 "nbformat": 4,
 "nbformat_minor": 5
}
