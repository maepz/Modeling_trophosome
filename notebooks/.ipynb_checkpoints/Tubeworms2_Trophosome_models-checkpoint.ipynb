{
 "cells": [
  {
   "cell_type": "code",
   "execution_count": 1,
   "id": "addb5ffc-e35c-47bb-a6e2-f3cca21f4307",
   "metadata": {},
   "outputs": [],
   "source": [
    "# np.random.seed(666)\n",
    "import pandas as pd\n",
    "import sys\n",
    "sys.path.append(\"/Users/maeva/Desktop/Modeling_trophosome/src/\")\n",
    "from project_package.generate_pop import generate_random_fisherlog_pop_unlinked, SymPop\n",
    "from project_package.run_model import run_until_fixation3\n",
    "from project_package.plot import visualize_pop\n",
    "\n",
    "import networkx as nx\n",
    "import numpy as np\n",
    "import matplotlib.pyplot as plt\n",
    "import seaborn as sns\n",
    "%matplotlib inline\n",
    "%load_ext autoreload\n",
    "%autoreload 2"
   ]
  },
  {
   "cell_type": "code",
   "execution_count": null,
   "id": "506ab6ac-99d9-4d8f-b836-1e3a89720593",
   "metadata": {},
   "outputs": [],
   "source": []
  },
  {
   "cell_type": "raw",
   "id": "b53c232e-0619-43df-a6d9-e1cff1b43c1f",
   "metadata": {},
   "source": [
    "In this notebook, I will compare two trophosome models. One where the whole trophosome is panmictic and one that is partitionned. \n",
    "\n",
    "In the panmictic trophosome, all symbionts form a single panmictic population. This population starts with 20 strains with Fisher-Log abundance distribution and grows exponentially until it reaches a maximum capacity of 1E10 cells. Then, the population stays stable for another 200 generations. Snapshots are taken every 20 generations.\n",
    "\n",
    "In the partitionned trophosome, symbionts are partitioned into separated lobes as the trophosome grows. This population starts with 20 strains with Fisher-Log abundance distribution and grows exponentially until it reaches a maximum capacity of 1E3 cells at which point, the population is randomly split into 2 intependent lobes (i.e. subpopulations) who will continue to grow. When the total population reaches 1E10 cells, all lobes switch to a steady-state mode for another 20 generations. Snapshots are taken every 20 generations."
   ]
  },
  {
   "cell_type": "markdown",
   "id": "3d1a484b-976e-4beb-a410-563a4745ad64",
   "metadata": {},
   "source": [
    "# Panmictic model"
   ]
  },
  {
   "cell_type": "code",
   "execution_count": 28,
   "id": "2a19ccdc-9d3e-48cd-8886-79868f60789a",
   "metadata": {},
   "outputs": [
    {
     "name": "stdout",
     "output_type": "stream",
     "text": [
      "582\n",
      "max population size reached:  10000000000.0\n",
      "len(results) 6\n",
      "t 92\n",
      "100\n",
      "150\n",
      "200\n",
      "250\n",
      "max runtime reached:  292\n",
      "293\n",
      "len(results) 17\n"
     ]
    }
   ],
   "source": [
    "np.random.seed(666)\n",
    "mutation_rate=0.00000001\n",
    "runtime=20000000 #max number of generations\n",
    "pop_size_thr=1E10\n",
    "growth_factor=1.20\n",
    "steady_state_runtime=200\n",
    "sampling_rate=20\n",
    "\n",
    "for iteration in range(1):\n",
    "    \n",
    "    G=generate_random_fisherlog_pop_unlinked(i=20) #n=individuals, i=strains\n",
    "    print(SymPop(G).pop_size)\n",
    "    \n",
    "    #grows exponentially until it reaches a maximum capacity of 1E10 cells\n",
    "    new_avail_id='1.0.0'\n",
    "    results=run_until_fixation3(G, mutation_rate, runtime, new_avail_id, growth_factor=growth_factor, stop_when_fixed=True, pop_size_thr=pop_size_thr, verbose=0, t=0,sampling_rate=sampling_rate)\n",
    "    print('len(results)',len(results)) \n",
    "    \n",
    "    # keep steady population for another 200 generations\n",
    "    t=list(results.keys())[-1]\n",
    "    print('t',t)\n",
    "    \n",
    "    results.update(run_until_fixation3(results[list(results.keys())[-1]], mutation_rate, t+steady_state_runtime, new_avail_id, growth_factor=1, stop_when_fixed=True, pop_size_thr=np.inf, verbose=50, t=t, sampling_rate=sampling_rate))  \n",
    "    print(list(results.keys())[-1])    \n",
    "    ###########\n",
    "print('len(results)',len(results)) "
   ]
  },
  {
   "cell_type": "code",
   "execution_count": 30,
   "id": "1d8948ee-abae-4f12-b059-47e422d500c4",
   "metadata": {},
   "outputs": [
    {
     "data": {
      "text/plain": [
       "698"
      ]
     },
     "execution_count": 30,
     "metadata": {},
     "output_type": "execute_result"
    }
   ],
   "source": [
    "SymPop(results[0]).pop_size"
   ]
  },
  {
   "cell_type": "code",
   "execution_count": 32,
   "id": "b44fc8a8-2efe-412d-859f-73ab4d7b0bd5",
   "metadata": {},
   "outputs": [
    {
     "data": {
      "text/plain": [
       "<seaborn.axisgrid.FacetGrid at 0x147285a10>"
      ]
     },
     "execution_count": 32,
     "metadata": {},
     "output_type": "execute_result"
    },
    {
     "data": {
      "image/png": "[encoded data removed]",
      "text/plain": [
       "<Figure size 600x300 with 2 Axes>"
      ]
     },
     "metadata": {},
     "output_type": "display_data"
    }
   ],
   "source": [
    "df_diversity=pd.DataFrame([])\n",
    "\n",
    "for i in results.keys():\n",
    "    G=SymPop(results[i])\n",
    "\n",
    "    richness=G.richness\n",
    "    pop_size=G.pop_size\n",
    "    tmp=pd.DataFrame.from_dict({i:[richness,pop_size]}, orient='index',columns=['richness','total_pop_size'])\n",
    "    tmp['generation']=i\n",
    "    tmp['iteration']=iteration\n",
    "    df_diversity=pd.concat([df_diversity, tmp], ignore_index=True)\n",
    "\n",
    "\n",
    "df_diversity=df_diversity.melt(id_vars=['iteration','generation'])\n",
    "\n",
    "g = sns.FacetGrid(df_diversity, col=\"variable\",sharex=True, sharey=False,hue='iteration')\n",
    "g.map_dataframe(sns.lineplot, x=\"generation\",y='value')"
   ]
  },
  {
   "cell_type": "markdown",
   "id": "3c13bd4f-e7fa-4b19-abbd-eaf6dae16bd0",
   "metadata": {},
   "source": [
    "# Partitionned model"
   ]
  },
  {
   "cell_type": "code",
   "execution_count": null,
   "id": "e0631c8b-0525-4ff4-ba50-9e80ba19ff28",
   "metadata": {},
   "outputs": [],
   "source": [
    "np.random.seed(666)\n",
    "mutation_rate=0.00000001\n",
    "runtime=20000000 #max number of generations\n",
    "pop_size_thr=1E10\n",
    "growth_factor=1.20\n",
    "split_size_thr=1E3\n",
    "steady_state_runtime=200\n",
    "sampling_rate=20\n",
    "\n",
    "for iteration in range(1):\n",
    "    \n",
    "    G=generate_random_fisherlog_pop_unlinked(i=20) #n=individuals, i=strains\n",
    "    print(SymPop(G).pop_size)\n",
    "    \n",
    "    #grows exponentially until it reaches split_size capacity\n",
    "    new_avail_id='1.0.0'\n",
    "    results=run_until_fixation3(G, mutation_rate, runtime, new_avail_id, growth_factor=growth_factor, stop_when_fixed=True, pop_size_thr=split_size_thr, verbose=0, t=0,sampling_rate=sampling_rate)\n",
    "    print('len(results)',len(results)) \n",
    "\n",
    "    # split population into 2 and run each half until split criteria\n",
    "    # Get total size. if smaller that pop_size_thr, continue recursively; else: steady state\n",
    "    '''[[[WORK IN PROGRESS]]]'''\n",
    "    \n",
    "    # keep steady population for another 200 generations\n",
    "    t=list(results.keys())[-1]\n",
    "    print('t',t)\n",
    "    \n",
    "    results.update(run_until_fixation3(results[list(results.keys())[-1]], mutation_rate, t+steady_state_runtime, new_avail_id, growth_factor=1, stop_when_fixed=True, pop_size_thr=np.inf, verbose=50, t=t, sampling_rate=sampling_rate))  \n",
    "    print(list(results.keys())[-1])    \n",
    "    ###########\n",
    "print('len(results)',len(results)) "
   ]
  }
 ],
 "metadata": {
  "kernelspec": {
   "display_name": "Python 3 (ipykernel)",
   "language": "python",
   "name": "python3"
  },
  "language_info": {
   "codemirror_mode": {
    "name": "ipython",
    "version": 3
   },
   "file_extension": ".py",
   "mimetype": "text/x-python",
   "name": "python",
   "nbconvert_exporter": "python",
   "pygments_lexer": "ipython3",
   "version": "3.11.5"
  },
  "widgets": {
   "application/vnd.jupyter.widget-state+json": {
    "state": {},
    "version_major": 2,
    "version_minor": 0
   }
  }
 },
 "nbformat": 4,
 "nbformat_minor": 5
}
