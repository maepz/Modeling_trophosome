{
 "cells": [
  {
   "cell_type": "code",
   "execution_count": 111,
   "id": "8c566da7-3f04-4d18-8138-d84494227009",
   "metadata": {},
   "outputs": [],
   "source": [
    "from project_package.generate_pop import SymPop\n",
    "from project_package.generate_pop import generate_initial_pop_unlinked\n",
    "from project_package.simplify import remove_empty_leaves_and_rescale_edges\n",
    "from project_package.plot import visualize_pop\n",
    "from project_package.run_model import update_pop\n",
    "from project_package.run_model import run_until_fixation\n",
    "import matplotlib.pyplot as plt\n",
    "import numpy as np\n",
    "\n",
    "%matplotlib inline\n",
    "# %load_ext autoreload\n",
    "# %autoreload 2"
   ]
  },
  {
   "cell_type": "code",
   "execution_count": 282,
   "id": "5754a087-2b85-4f6e-96d3-695f129ac386",
   "metadata": {},
   "outputs": [
    {
     "name": "stdout",
     "output_type": "stream",
     "text": [
      "50\n",
      "100\n",
      "150\n",
      "200\n",
      "202\n"
     ]
    }
   ],
   "source": [
    "np.random.seed(666)\n",
    "\n",
    "fitnesses=[1,0.9,0.5,0.8,0.9] # allele_id:fitness\n",
    "abundances=[30,70,1,0,0] # allele_id:abundance\n",
    "\n",
    "G=generate_initial_pop_unlinked(fitnesses,abundances)\n",
    "\n",
    "mutation_rate=0.05\n",
    "\n",
    "runtime=200\n",
    "results=run_until_fixation(G,mutation_rate,runtime,verbose=50)\n",
    "print(len(results))\n",
    "# for i in range(0, len(results), int(np.ceil(len(results)/5))):\n",
    "#     plt.figure()\n",
    "#     visualize_pop(results[i],i,abundance_threshold='10%',view_node_labels=True)\n",
    "#     plt.show(block=False)"
   ]
  },
  {
   "cell_type": "code",
   "execution_count": 293,
   "id": "868ad2e9-bbc7-4ec6-8645-4bc3054491a4",
   "metadata": {},
   "outputs": [
    {
     "ename": "SyntaxError",
     "evalue": "expected ':' (2854439381.py, line 10)",
     "output_type": "error",
     "traceback": [
      "\u001b[0;36m  Cell \u001b[0;32mIn[293], line 10\u001b[0;36m\u001b[0m\n\u001b[0;31m    def split_pop_in_half()\u001b[0m\n\u001b[0m                           ^\u001b[0m\n\u001b[0;31mSyntaxError\u001b[0m\u001b[0;31m:\u001b[0m expected ':'\n"
     ]
    }
   ],
   "source": [
    "from collections import Counter\n",
    "from copy import copy\n",
    "import random\n",
    "\n",
    "np.random.seed(666)\n",
    "\n",
    "G=SymPop(results[2].copy()).G\n",
    "G.visualize_pop()\n",
    "\n",
    "def split_pop_in_half():\n",
    "\n",
    "    fitness_dic={node: attr['fitness'] for node,attr in G.nodes(data=True)}\n",
    "    parent_pop={node: attr['abundance'] for node,attr in G.nodes(data=True)}\n",
    "    n=sum(parent_pop.values())\n",
    "    print(n,parent_pop)\n",
    "    print(round(n/2))\n",
    "    rnd = Counter(random.sample(list(parent_pop.keys()), counts=map(int,list(parent_pop.values())), k=round(n/2)))\n",
    "    new_pop1=Counter(parent_pop)\n",
    "    new_pop1.subtract(rnd)\n",
    "    print(sum(new_pop1.values()),new_pop1)\n",
    "    \n",
    "    new_pop2=Counter(parent_pop)\n",
    "    new_pop2.subtract(new_pop1)\n",
    "    print(sum(new_pop2.values()),new_pop2)\n",
    "    \n",
    "    \n",
    "    # print(sum(new_pop2.values()),new_pop2)\n",
    "    plt.figure()\n",
    "    TS.visualize_pop(show_empty=True)\n",
    "    \n",
    "    newG1=copy(G)\n",
    "    adj=[[node_id,{'abundance':val,'fitness':fitness_dic[node_id]}] for node_id,val in new_pop1.items()]\n",
    "    newG1.update(nodes=adj)\n",
    "    newG1=remove_empty_leaves_and_rescale_edges(newG1)\n",
    "    print(newG1.edges())\n",
    "    \n",
    "    plt.figure()\n",
    "    newTS1.visualize_pop(show_empty=True)\n",
    "    \n",
    "    newG2=copy(G)\n",
    "    adj=[[node_id,{'abundance':val,'fitness':fitness_dic[node_id]}] for node_id,val in new_pop2.items()]\n",
    "    newG2.update(nodes=adj)\n",
    "    newG2=remove_empty_leaves_and_rescale_edges(newG2)\n",
    "    print(newG2.edges())\n",
    "    plt.figure()\n",
    "    newG2.visualize_pop(show_empty=True)\n",
    "\n",
    "    return()"
   ]
  },
  {
   "cell_type": "code",
   "execution_count": null,
   "id": "712e2ea3-1785-4eee-9a47-f546c41141ff",
   "metadata": {},
   "outputs": [],
   "source": []
  }
 ],
 "metadata": {
  "kernelspec": {
   "display_name": "Python 3 (ipykernel)",
   "language": "python",
   "name": "python3"
  },
  "language_info": {
   "codemirror_mode": {
    "name": "ipython",
    "version": 3
   },
   "file_extension": ".py",
   "mimetype": "text/x-python",
   "name": "python",
   "nbconvert_exporter": "python",
   "pygments_lexer": "ipython3",
   "version": "3.11.5"
  }
 },
 "nbformat": 4,
 "nbformat_minor": 5
}
